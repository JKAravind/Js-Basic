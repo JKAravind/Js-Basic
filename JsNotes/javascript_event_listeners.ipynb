{
 "cells": [
  {
   "cell_type": "markdown",
   "id": "1d29f9b3",
   "metadata": {},
   "source": [
    "# Understanding JavaScript Event Listeners"
   ]
  },
  {
   "cell_type": "markdown",
   "id": "4bf9c30c",
   "metadata": {},
   "source": [
    "## 🚨 Incorrect Example"
   ]
  },
  {
   "cell_type": "code",
   "execution_count": null,
   "id": "ee1dd94d",
   "metadata": {},
   "outputs": [],
   "source": [
    "\n",
    "# This executes the function immediately instead of waiting for the event\n",
    "document.getElementById(\"myButton\").addEventListener(\"click\", showMessage());\n"
   ]
  },
  {
   "cell_type": "markdown",
   "id": "040fc6d9",
   "metadata": {},
   "source": [
    "### ❌ Why is this wrong?\n",
    "- `showMessage()` executes immediately when the script loads.\n",
    "- The return value of `showMessage()` is assigned instead of the function itself.\n",
    "- Clicking the button later does nothing."
   ]
  },
  {
   "cell_type": "markdown",
   "id": "eb932a7a",
   "metadata": {},
   "source": [
    "## ✅ Correct Example"
   ]
  },
  {
   "cell_type": "code",
   "execution_count": null,
   "id": "59f65836",
   "metadata": {},
   "outputs": [],
   "source": [
    "\n",
    "# This correctly passes the function reference, so it executes only on click\n",
    "document.getElementById(\"myButton\").addEventListener(\"click\", showMessage);\n"
   ]
  },
  {
   "cell_type": "markdown",
   "id": "e91731e6",
   "metadata": {},
   "source": [
    "### ✅ Why is this correct?\n",
    "- We pass the function reference `showMessage`, so it runs only when clicked."
   ]
  },
  {
   "cell_type": "markdown",
   "id": "5eeda298",
   "metadata": {},
   "source": [
    "## 💡 Passing Arguments"
   ]
  },
  {
   "cell_type": "code",
   "execution_count": null,
   "id": "7c035abd",
   "metadata": {},
   "outputs": [],
   "source": [
    "\n",
    "# Using an anonymous function to pass arguments correctly\n",
    "document.getElementById(\"myButton\").addEventListener(\"click\", function() {\n",
    "    showMessage(\"Hello\");\n",
    "});\n"
   ]
  },
  {
   "cell_type": "markdown",
   "id": "69e24633",
   "metadata": {},
   "source": [
    "### 💡 Why is this necessary?\n",
    "- If we need to pass arguments, we must use an anonymous function.\n",
    "- This ensures `showMessage(\"Hello\")` runs only when clicked."
   ]
  }
 ],
 "metadata": {},
 "nbformat": 4,
 "nbformat_minor": 5
}